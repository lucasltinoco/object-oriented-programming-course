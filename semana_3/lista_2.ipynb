{
 "cells": [
  {
   "cell_type": "markdown",
   "metadata": {},
   "source": [
    "# Lista 2 - Lucas de Lacerda Tinoco - 20103226\n",
    "\n",
    "### Exercício 1. Faça um Programa que leia um vetor de 5 números inteiros e mostre-os."
   ]
  },
  {
   "cell_type": "code",
   "execution_count": null,
   "metadata": {},
   "outputs": [],
   "source": [
    "vetor = [int(v) for v in input().split()]\n",
    "\n",
    "for valor in vetor:\n",
    "    print(valor, end=' ')\n"
   ]
  },
  {
   "cell_type": "markdown",
   "metadata": {},
   "source": [
    "### Exercício 2. Faça um Programa que leia um vetor de 10 números reais e mostre-os na ordem inversa."
   ]
  },
  {
   "cell_type": "code",
   "execution_count": null,
   "metadata": {},
   "outputs": [],
   "source": [
    "vetor = [float(x) for x in input().split()]\n",
    "\n",
    "for valor in vetor[::-1]:\n",
    "    print(valor, end=' ')\n"
   ]
  },
  {
   "cell_type": "markdown",
   "metadata": {},
   "source": [
    "### Exercício 3. Faça um Programa que leia 4 notas, mostre as notas e a média na tela."
   ]
  },
  {
   "cell_type": "code",
   "execution_count": null,
   "metadata": {},
   "outputs": [],
   "source": [
    "notas = [float(x) for x in input(\n",
    "    'Digite as notas separadas por um espaço:').split()]\n",
    "soma_de_notas = 0\n",
    "\n",
    "for nota in notas:\n",
    "    print(nota, end=' ')\n",
    "    soma_de_notas += nota\n",
    "\n",
    "media = soma_de_notas / len(notas)\n",
    "\n",
    "print(f'\\nMédia: {media}')\n"
   ]
  },
  {
   "cell_type": "markdown",
   "metadata": {},
   "source": [
    "### Exercício 4. Faça um Programa que leia um vetor de 10 caracteres, e diga quantas consoantes foram lidas. Imprima as consoantes."
   ]
  },
  {
   "cell_type": "code",
   "execution_count": null,
   "metadata": {},
   "outputs": [],
   "source": [
    "vogais = [\"A\", \"E\", \"I\", \"O\", \"U\"]\n",
    "consoantes = set()\n",
    "\n",
    "letras = [str(l).upper() for l in input().split()]\n",
    "\n",
    "for letra in letras:\n",
    "    if letra not in vogais:\n",
    "        consoantes.add(letra)\n",
    "\n",
    "print(f'Total de consoantes lidas: {len(consoantes)}')\n",
    "print(f'Consoantes: {consoantes}')\n"
   ]
  },
  {
   "cell_type": "markdown",
   "metadata": {},
   "source": [
    "### Exercício 5. Faça um Programa que leia 20 números inteiros e armazene-os num vetor. Armazene os números pares no vetor PAR e os números IMPARES no vetor impar. Imprima os três vetores."
   ]
  },
  {
   "cell_type": "code",
   "execution_count": null,
   "metadata": {},
   "outputs": [],
   "source": [
    "geral = [int(v) for v in input().split()]\n",
    "pares = []\n",
    "impares = []\n",
    "\n",
    "for valor in geral:\n",
    "    if valor % 2 == 0:\n",
    "        pares.append(valor)\n",
    "    else:\n",
    "        impares.append(valor)\n",
    "\n",
    "\n",
    "print(f'Todos: {geral}')\n",
    "print(f'Pares: {pares}')\n",
    "print(f'Ímpares: {impares}')\n"
   ]
  },
  {
   "cell_type": "markdown",
   "metadata": {},
   "source": [
    "### Exercício 6. Faça um Programa que peça as quatro notas de 10 alunos, calcule e armazene um vetor a média de cada aluno, imprima o número de alunos com média maior ou igual a 7.0."
   ]
  },
  {
   "cell_type": "code",
   "execution_count": null,
   "metadata": {},
   "outputs": [],
   "source": [
    "NUMERO_DE_ALUNOS = 10\n",
    "\n",
    "notas_por_aluno = [[]] * NUMERO_DE_ALUNOS\n",
    "medias = [0] * NUMERO_DE_ALUNOS\n",
    "aprovados = []\n",
    "\n",
    "for index, notas_aluno in enumerate(notas_por_aluno):\n",
    "    notas_por_aluno[index] = [float(x) for x in input(\n",
    "        f'Digite as notas do aluno {index + 1} separadas por um espaço').split()]\n",
    "\n",
    "    print(f'Notas do aluno {index + 1}: {notas_por_aluno[index]}')\n",
    "\n",
    "    soma_de_notas = 0\n",
    "\n",
    "    for nota in notas_por_aluno[index]:\n",
    "        soma_de_notas += nota\n",
    "\n",
    "    medias[index] = soma_de_notas / len(notas_por_aluno[index])\n",
    "\n",
    "    print(f'Media do aluno {index + 1}: {medias[index]}')\n",
    "\n",
    "    if (medias[index] >= 7):\n",
    "        aprovados.append(medias[index])\n",
    "\n",
    "print(f'Alunos com media maior ou igual a 7: {len(aprovados)}')\n"
   ]
  },
  {
   "cell_type": "markdown",
   "metadata": {},
   "source": [
    "### Exercício 7. Faça um Programa que leia um vetor de 5 números inteiros, mostre a soma, a multiplicação e os números."
   ]
  },
  {
   "cell_type": "code",
   "execution_count": null,
   "metadata": {},
   "outputs": [],
   "source": [
    "inteiros = [int(v) for v in input().split()]\n",
    "soma = 0\n",
    "multiplicacao = 1\n",
    "\n",
    "for inteiro in inteiros:\n",
    "    soma += inteiro\n",
    "    multiplicacao *= inteiro\n",
    "\n",
    "print(f'Numeros: {inteiros}')\n",
    "print(f'Soma: {soma}')\n",
    "print(f'Multiplicação: {multiplicacao}')\n"
   ]
  },
  {
   "cell_type": "markdown",
   "metadata": {},
   "source": [
    "### Exercício 8. Faça um Programa que peça a idade e a altura de 5 pessoas, armazene cada informação no seu respectivo vetor. Imprima a idade e a altura na ordem inversa a ordem lida."
   ]
  },
  {
   "cell_type": "code",
   "execution_count": null,
   "metadata": {},
   "outputs": [],
   "source": [
    "NUMERO_DE_PESSOAS = 2\n",
    "\n",
    "idades = [0] * NUMERO_DE_PESSOAS\n",
    "alturas = [0] * NUMERO_DE_PESSOAS\n",
    "\n",
    "for index in range(NUMERO_DE_PESSOAS):\n",
    "    alturas[index] = float(input('Altura: '))\n",
    "    idades[index] = int(input('Idade: '))\n",
    "\n",
    "print(f'Idades: {idades[::-1]}')\n",
    "print(f'Alturas: {alturas[::-1]}')\n"
   ]
  },
  {
   "cell_type": "markdown",
   "metadata": {},
   "source": [
    "### Exercício 9. Faça um Programa que leia um vetor A com 10 números inteiros, calcule e mostre a soma dos quadrados dos elementos do vetor."
   ]
  },
  {
   "cell_type": "code",
   "execution_count": null,
   "metadata": {},
   "outputs": [],
   "source": [
    "inteiros = [int(n) for n in input().split()]\n",
    "soma_dos_quadrados = 0\n",
    "\n",
    "for inteiro in inteiros:\n",
    "    soma_dos_quadrados += ((inteiro)**2)\n",
    "\n",
    "print(f'Soma dos quadrados: {soma_dos_quadrados}')\n"
   ]
  },
  {
   "cell_type": "markdown",
   "metadata": {},
   "source": [
    "### Exercício 10. Faça um Programa que leia dois vetores com 10 elementos cada. Gere um terceiro vetor de 20 elementos, cujos valores deverão ser compostos pelos elementos intercalados dos dois outros vetores."
   ]
  },
  {
   "cell_type": "code",
   "execution_count": null,
   "metadata": {},
   "outputs": [],
   "source": [
    "vetor_1 = [int(x) for x in input().split()]\n",
    "vetor_2 = [int(x) for x in input().split()]\n",
    "tamanho_intercalado = len(vetor_1) + len(vetor_2)\n",
    "vetor_intercalado = [0] * tamanho_intercalado\n",
    "\n",
    "for index in range(tamanho_intercalado):\n",
    "    if (index % 2 != 0):\n",
    "        vetor_intercalado[index] = vetor_2[index // 2]\n",
    "    else:\n",
    "        vetor_intercalado[index] = vetor_1[index // 2]\n",
    "\n",
    "print(f'Primeiro vetor: {vetor_1}')\n",
    "print(f'Segundo vetor: {vetor_2}')\n",
    "print(f'Vetor intercalado: {vetor_intercalado}')\n"
   ]
  }
 ],
 "metadata": {
  "interpreter": {
   "hash": "916dbcbb3f70747c44a77c7bcd40155683ae19c65e1c03b4aa3499c5328201f1"
  },
  "kernelspec": {
   "display_name": "Python 3.8.10 64-bit",
   "language": "python",
   "name": "python3"
  },
  "language_info": {
   "codemirror_mode": {
    "name": "ipython",
    "version": 3
   },
   "file_extension": ".py",
   "mimetype": "text/x-python",
   "name": "python",
   "nbconvert_exporter": "python",
   "pygments_lexer": "ipython3",
   "version": "3.8.10"
  }
 },
 "nbformat": 4,
 "nbformat_minor": 2
}
